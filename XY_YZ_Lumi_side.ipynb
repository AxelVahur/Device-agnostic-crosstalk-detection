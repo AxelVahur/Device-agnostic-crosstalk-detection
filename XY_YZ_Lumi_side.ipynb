{
 "cells": [
  {
   "cell_type": "code",
   "execution_count": null,
   "id": "59baf857-3c7d-4e11-bd23-3e59f17d0e77",
   "metadata": {},
   "outputs": [],
   "source": [
    "import os\n",
    "from iqm.qiskit_iqm import IQMProvider\n",
    "from qiskit import QuantumCircuit, QuantumRegister, transpile\n",
    "from qiskit.visualization import plot_histogram\n",
    "import networkx\n"
   ]
  },
  {
   "cell_type": "code",
   "execution_count": null,
   "id": "407c0ad1-e797-4e0a-8876-8767fb81d572",
   "metadata": {},
   "outputs": [
    {
     "name": "stderr",
     "output_type": "stream",
     "text": [
      "/LUMI_TYKKY_g6173KU/miniconda/envs/env1/lib/python3.11/site-packages/iqm/iqm_client/iqm_client.py:154: UserWarning: Your IQM Client version 20.13 was built for a different version of IQM Server. You might encounter issues. For the best experience, consider using a version of IQM Client that satisfies 22.3 <= iqm-client < 23.0.\n",
      "  warnings.warn(version_incompatibility_msg)\n"
     ]
    },
    {
     "name": "stdout",
     "output_type": "stream",
     "text": [
      "Native operations: ['measure', 'id', 'r', 'cz']\n",
      "Number of qubits: 5\n",
      "Coupling map: [[0, 2], [2, 0], [1, 2], [2, 1], [2, 3], [3, 2], [2, 4], [4, 2]]\n"
     ]
    },
    {
     "data": {
      "image/png": "[encoded data removed]",
      "text/plain": [
       "<Figure size 640x480 with 1 Axes>"
      ]
     },
     "metadata": {},
     "output_type": "display_data"
    }
   ],
   "source": [
    "# Set up the Helmi backend\n",
    "\n",
    "HELMI_CORTEX_URL = os.getenv('HELMI_CORTEX_URL')\n",
    "provider = IQMProvider(HELMI_CORTEX_URL)\n",
    "backend = provider.get_backend()\n",
    "\n",
    "print(f'Native operations: {backend.operation_names}')\n",
    "print(f'Number of qubits: {backend.num_qubits}')\n",
    "print(f'Coupling map: {backend.coupling_map}')\n",
    "\n",
    "G = networkx.Graph()\n",
    "G.add_edges_from(backend.coupling_map)\n",
    "node_labels = {node: f\"QB{node + 1}\" for node in G.nodes}\n",
    "networkx.draw(G, labels=node_labels, node_color='skyblue', node_size=500, font_size=10)"
   ]
  },
  {
   "cell_type": "code",
   "execution_count": null,
   "id": "c077fed5-f4f4-478c-8ddc-3172f12810ea",
   "metadata": {},
   "outputs": [
    {
     "name": "stdout",
     "output_type": "stream",
     "text": [
      "Submitting job on qubit0...\n",
      "Jobs completed\n",
      "Submitting job on qubit1...\n",
      "Jobs completed\n",
      "Submitting job on qubit2...\n",
      "Jobs completed\n",
      "Submitting job on qubit3...\n",
      "Jobs completed\n",
      "Submitting job on qubit4...\n",
      "Jobs completed\n",
      "Counts exported to files\n"
     ]
    }
   ],
   "source": [
    "# Lumi side ---------------------\n",
    "# XY idle protocol\n",
    "import qiskit\n",
    "from qiskit import qpy\n",
    "import pickle\n",
    "\n",
    "resultsDict = {}\n",
    "for q in range(0,5):\n",
    "    fileName = \"exported_circuits_q\" + str(q) + \".qpy\"\n",
    "    with open(fileName, \"rb\") as handle:\n",
    "        qcList = qpy.load(handle)\n",
    "      \n",
    "    tcList = [] # list of transpiled circuits\n",
    "    for qc in qcList:\n",
    "        temp = qiskit.transpile(qc, backend, layout_method='sabre', optimization_level=0, initial_layout=[0,1,2,3,4])\n",
    "        tcList.append(temp)\n",
    "    \n",
    "    print(\"Submitting job on qubit\" + str(q) + \"...\")\n",
    "    job = backend.run(tcList, shots=1000)\n",
    "    resultsDict[q] = []\n",
    "    result = job.result()\n",
    "    resultsDict[q].append(result)\n",
    "    print(\"Job completed\")\n",
    "\n",
    "def counts_out(counts_list, file_name=\"exported_counts_q\"):\n",
    "\twith open(file_name, \"xb\") as f:\n",
    "\t\tpickle.dump(counts_list, f, pickle.HIGHEST_PROTOCOL)\n",
    "\n",
    "for q in range(0,5):\n",
    "\tcountsList = resultsDict[q][0].get_counts()\n",
    "\tfileName = \"exported_counts_q\" + str(q)\n",
    "\tcounts_out(countsList, fileName)\n",
    "\n",
    "print(\"Counts exported to files\")"
   ]
  },
  {
   "cell_type": "code",
   "execution_count": null,
   "id": "3a8fcda9-2cfb-4745-ab93-cdffe9a8229d",
   "metadata": {},
   "outputs": [
    {
     "name": "stdout",
     "output_type": "stream",
     "text": [
      "Submitting job on qubit0...\n",
      "Job completed\n",
      "Submitting job on qubit1...\n",
      "Job completed\n",
      "Submitting job on qubit2...\n",
      "Job completed\n",
      "Submitting job on qubit3...\n",
      "Job completed\n",
      "Submitting job on qubit4...\n",
      "Job completed\n",
      "Counts exported to files\n"
     ]
    }
   ],
   "source": [
    "# Lumi side ---------------------\n",
    "# YZ idle protocol\n",
    "import qiskit\n",
    "from qiskit import qpy\n",
    "import pickle\n",
    "\n",
    "resultsDict = {}\n",
    "for q in range(0,5):\n",
    "    fileName = \"exported_circuitsYZ_q\" + str(q) + \".qpy\"\n",
    "    with open(fileName, \"rb\") as handle:\n",
    "        qcList = qpy.load(handle)\n",
    "    \n",
    "    tcList = [] # list of transpiled circuits\n",
    "    for qc in qcList:\n",
    "        temp = qiskit.transpile(qc, backend, layout_method='sabre', optimization_level=0, initial_layout=[0,1,2,3,4])\n",
    "        tcList.append(temp)\n",
    "    \n",
    "    print(\"Submitting job on qubit\" + str(q) + \"...\")\n",
    "    job = backend.run(tcList, shots=1000)\n",
    "    resultsDict[q] = []\n",
    "    result = job.result()\n",
    "    resultsDict[q].append(result)\n",
    "    print(\"Job completed\")\n",
    "\n",
    "def counts_out(counts_list, file_name=\"exported_counts_q\"):\n",
    "\twith open(file_name, \"xb\") as f:\n",
    "\t\tpickle.dump(counts_list, f, pickle.HIGHEST_PROTOCOL)\n",
    "\n",
    "for q in range(0,5):\n",
    "\tcountsList = resultsDict[q][0].get_counts()\n",
    "\tfileName = \"exported_countsYZ_q\" + str(q)\n",
    "\tcounts_out(countsList, fileName)\n",
    "\n",
    "print(\"Counts exported to files\")"
   ]
  },
  {
   "cell_type": "code",
   "execution_count": null,
   "id": "413aab8b-13da-4c0c-83af-87eeac9a211b",
   "metadata": {},
   "outputs": [],
   "source": []
  }
 ],
 "metadata": {
  "kernelspec": {
   "display_name": "Python 3 (ipykernel)",
   "language": "python",
   "name": "python3"
  },
  "language_info": {
   "codemirror_mode": {
    "name": "ipython",
    "version": 3
   },
   "file_extension": ".py",
   "mimetype": "text/x-python",
   "name": "python",
   "nbconvert_exporter": "python",
   "pygments_lexer": "ipython3",
   "version": "3.11.7"
  }
 },
 "nbformat": 4,
 "nbformat_minor": 5
}
